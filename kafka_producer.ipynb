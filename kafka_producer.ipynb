{
 "cells": [
  {
   "cell_type": "code",
   "execution_count": 1,
   "id": "b12cf28f",
   "metadata": {},
   "outputs": [
    {
     "name": "stdout",
     "output_type": "stream",
     "text": [
      "Requirement already satisfied: confluent_kafka in /home/nisha/anaconda3/lib/python3.11/site-packages (2.4.0)\r\n"
     ]
    }
   ],
   "source": [
    "!pip install confluent_kafka"
   ]
  },
  {
   "cell_type": "code",
   "execution_count": 2,
   "id": "95456e00",
   "metadata": {},
   "outputs": [],
   "source": [
    "from confluent_kafka.admin import AdminClient,NewTopic"
   ]
  },
  {
   "cell_type": "code",
   "execution_count": 3,
   "id": "1ee03d67",
   "metadata": {},
   "outputs": [],
   "source": [
    "ac = AdminClient({'bootstrap.servers': 'localhost'})"
   ]
  },
  {
   "cell_type": "code",
   "execution_count": 4,
   "id": "5d536ea2",
   "metadata": {},
   "outputs": [],
   "source": [
    "topic=NewTopic('mytopic',num_partitions=3,replication_factor=1)"
   ]
  },
  {
   "cell_type": "code",
   "execution_count": 5,
   "id": "01d67fe8",
   "metadata": {},
   "outputs": [
    {
     "data": {
      "text/plain": [
       "NewTopic(topic=mytopic,num_partitions=3)"
      ]
     },
     "execution_count": 5,
     "metadata": {},
     "output_type": "execute_result"
    }
   ],
   "source": [
    "topic"
   ]
  },
  {
   "cell_type": "code",
   "execution_count": 6,
   "id": "44aa4e19",
   "metadata": {},
   "outputs": [],
   "source": [
    "fs=ac.create_topics([topic])"
   ]
  },
  {
   "cell_type": "code",
   "execution_count": 7,
   "id": "363f043e",
   "metadata": {},
   "outputs": [
    {
     "data": {
      "text/plain": [
       "dict_values([<Future at 0x74c41c414990 state=running>])"
      ]
     },
     "execution_count": 7,
     "metadata": {},
     "output_type": "execute_result"
    }
   ],
   "source": [
    "fs.values()"
   ]
  },
  {
   "cell_type": "code",
   "execution_count": 8,
   "id": "56c501ff",
   "metadata": {},
   "outputs": [],
   "source": [
    "from confluent_kafka import Producer\n",
    "import requests\n",
    "import json"
   ]
  },
  {
   "cell_type": "code",
   "execution_count": 9,
   "id": "66c2419b",
   "metadata": {},
   "outputs": [],
   "source": [
    "conf={'bootstrap.servers':\"localhost:9092\"}"
   ]
  },
  {
   "cell_type": "code",
   "execution_count": 10,
   "id": "e411f971",
   "metadata": {},
   "outputs": [],
   "source": [
    "producer=Producer(conf)"
   ]
  },
  {
   "cell_type": "code",
   "execution_count": 11,
   "id": "7c043252",
   "metadata": {},
   "outputs": [],
   "source": [
    "api_url=\"https://randomuser.me/api\""
   ]
  },
  {
   "cell_type": "code",
   "execution_count": 12,
   "id": "a91832ea",
   "metadata": {},
   "outputs": [],
   "source": [
    "response = requests.get(api_url)\n",
    "data_json = response.json()\n"
   ]
  },
  {
   "cell_type": "code",
   "execution_count": 13,
   "id": "17f3a69c",
   "metadata": {},
   "outputs": [],
   "source": [
    "output_data = {\"results\": []}"
   ]
  },
  {
   "cell_type": "code",
   "execution_count": 14,
   "id": "9c4dff15",
   "metadata": {},
   "outputs": [],
   "source": [
    "users_data = data_json['results']"
   ]
  },
  {
   "cell_type": "code",
   "execution_count": 15,
   "id": "b7e7d26c",
   "metadata": {},
   "outputs": [],
   "source": [
    "for user_data in users_data:\n",
    "    user_dict = {\n",
    "        \"name\": f\"{user_data['name']['first']} {user_data['name']['last']}\",\n",
    "        \"id\": user_data[\"id\"][\"value\"],\n",
    "        \"age\": user_data[\"dob\"][\"age\"],\n",
    "        \"gender\": user_data[\"gender\"],\n",
    "        \"place\": f\"{user_data['location']['city']}, {user_data['location']['state']}\",\n",
    "        \"country\": user_data['location']['country'],\n",
    "        \"email\": user_data[\"email\"],\n",
    "        \"phone number\": user_data[\"phone\"]\n",
    "    }\n",
    "\n",
    "    output_data[\"results\"].append(user_dict)"
   ]
  },
  {
   "cell_type": "code",
   "execution_count": 16,
   "id": "00f7a9a2",
   "metadata": {},
   "outputs": [],
   "source": [
    "user_json = json.dumps(user_dict)\n",
    "\n",
    "    \n",
    "\n",
    "\n"
   ]
  },
  {
   "cell_type": "code",
   "execution_count": 17,
   "id": "34150564",
   "metadata": {},
   "outputs": [],
   "source": [
    "# Produce the message to the Kafka topic\n",
    "producer.produce('mytopic', value=user_json.encode('utf-8'))"
   ]
  },
  {
   "cell_type": "code",
   "execution_count": 18,
   "id": "85a694f5",
   "metadata": {},
   "outputs": [
    {
     "data": {
      "text/plain": [
       "0"
      ]
     },
     "execution_count": 18,
     "metadata": {},
     "output_type": "execute_result"
    }
   ],
   "source": [
    "# Flush the producer to ensure all messages are delivered\n",
    "producer.flush()"
   ]
  },
  {
   "cell_type": "code",
   "execution_count": 19,
   "id": "8ab072b4",
   "metadata": {},
   "outputs": [],
   "source": [
    "# Printing the output data\n",
    "json_output = json.dumps(output_data, indent=4)\n",
    "# print(json_output)"
   ]
  },
  {
   "cell_type": "code",
   "execution_count": 20,
   "id": "c61e7b23",
   "metadata": {},
   "outputs": [
    {
     "name": "stdout",
     "output_type": "stream",
     "text": [
      "{\n",
      "    \"results\": [\n",
      "        {\n",
      "            \"name\": \"Lavanya Rajesh\",\n",
      "            \"id\": \"523771281020\",\n",
      "            \"age\": 28,\n",
      "            \"gender\": \"female\",\n",
      "            \"place\": \"Raichur, Sikkim\",\n",
      "            \"country\": \"India\",\n",
      "            \"email\": \"lavanya.rajesh@example.com\",\n",
      "            \"phone number\": \"9959360797\"\n",
      "        }\n",
      "    ]\n",
      "}\n"
     ]
    }
   ],
   "source": [
    "print(json_output)"
   ]
  },
  {
   "cell_type": "code",
   "execution_count": null,
   "id": "ad770200",
   "metadata": {},
   "outputs": [],
   "source": []
  },
  {
   "cell_type": "code",
   "execution_count": null,
   "id": "20a4974d",
   "metadata": {},
   "outputs": [],
   "source": []
  },
  {
   "cell_type": "code",
   "execution_count": null,
   "id": "b89f6c1b",
   "metadata": {},
   "outputs": [],
   "source": []
  },
  {
   "cell_type": "code",
   "execution_count": null,
   "id": "b0427875",
   "metadata": {},
   "outputs": [],
   "source": []
  },
  {
   "cell_type": "code",
   "execution_count": null,
   "id": "2541ef9f",
   "metadata": {},
   "outputs": [],
   "source": []
  },
  {
   "cell_type": "code",
   "execution_count": null,
   "id": "b0c2ca33",
   "metadata": {},
   "outputs": [],
   "source": []
  },
  {
   "cell_type": "code",
   "execution_count": null,
   "id": "6cd161ac",
   "metadata": {},
   "outputs": [],
   "source": []
  },
  {
   "cell_type": "code",
   "execution_count": null,
   "id": "866f01c1",
   "metadata": {},
   "outputs": [],
   "source": []
  },
  {
   "cell_type": "code",
   "execution_count": null,
   "id": "4aa058ff",
   "metadata": {},
   "outputs": [],
   "source": [
    "\n"
   ]
  }
 ],
 "metadata": {
  "kernelspec": {
   "display_name": "Python 3 (ipykernel)",
   "language": "python",
   "name": "python3"
  },
  "language_info": {
   "codemirror_mode": {
    "name": "ipython",
    "version": 3
   },
   "file_extension": ".py",
   "mimetype": "text/x-python",
   "name": "python",
   "nbconvert_exporter": "python",
   "pygments_lexer": "ipython3",
   "version": "3.11.5"
  }
 },
 "nbformat": 4,
 "nbformat_minor": 5
}

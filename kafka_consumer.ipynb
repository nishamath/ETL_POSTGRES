{
 "cells": [
  {
   "cell_type": "code",
   "execution_count": 1,
   "id": "6655a592",
   "metadata": {},
   "outputs": [],
   "source": [
    "from confluent_kafka import Consumer"
   ]
  },
  {
   "cell_type": "code",
   "execution_count": 2,
   "id": "0078ada3",
   "metadata": {},
   "outputs": [],
   "source": [
    "consumer=Consumer({\n",
    "    'bootstrap.servers':'localhost',\n",
    "    'group.id':'G1',\n",
    "    'auto.offset.reset':'latest'\n",
    "})"
   ]
  },
  {
   "cell_type": "code",
   "execution_count": 3,
   "id": "153127f7",
   "metadata": {},
   "outputs": [],
   "source": [
    "consumer.subscribe(['mytopic'])"
   ]
  },
  {
   "cell_type": "code",
   "execution_count": null,
   "id": "d59f5996",
   "metadata": {},
   "outputs": [
    {
     "name": "stdout",
     "output_type": "stream",
     "text": [
      "recieved messages:{\"name\": \"Kate Powell\", \"id\": \"9008002T\", \"age\": 64, \"gender\": \"female\", \"place\": \"Castlebar, Westmeath\", \"country\": \"Ireland\", \"email\": \"kate.powell@example.com\", \"phone number\": \"011-605-6067\"}\n",
      "recieved messages:{\"name\": \"\\u0622\\u062f\\u0631\\u06cc\\u0646\\u0627 \\u06cc\\u0627\\u0633\\u0645\\u06cc\", \"id\": null, \"age\": 53, \"gender\": \"female\", \"place\": \"\\u06cc\\u0632\\u062f, \\u062a\\u0647\\u0631\\u0627\\u0646\", \"country\": \"Iran\", \"email\": \"adryn.ysmy@example.com\", \"phone number\": \"038-50539454\"}\n",
      "recieved messages:{\"name\": \"Wiktoria Brevik\", \"id\": \"30055816642\", \"age\": 66, \"gender\": \"female\", \"place\": \"Tranby, Rogaland\", \"country\": \"Norway\", \"email\": \"wiktoria.brevik@example.com\", \"phone number\": \"74819021\"}\n",
      "recieved messages:{\"name\": \"Derrick Austin\", \"id\": \"WS 41 25 39 B\", \"age\": 47, \"gender\": \"male\", \"place\": \"Coventry, Powys\", \"country\": \"United Kingdom\", \"email\": \"derrick.austin@example.com\", \"phone number\": \"0111 365 9692\"}\n",
      "recieved messages:{\"name\": \"\\u0628\\u0631\\u062f\\u06cc\\u0627 \\u06a9\\u0631\\u06cc\\u0645\\u06cc\", \"id\": null, \"age\": 46, \"gender\": \"male\", \"place\": \"\\u0633\\u0627\\u0631\\u06cc, \\u062e\\u0631\\u0627\\u0633\\u0627\\u0646 \\u0631\\u0636\\u0648\\u06cc\", \"country\": \"Iran\", \"email\": \"brdy.khrymy@example.com\", \"phone number\": \"071-16679808\"}\n",
      "recieved messages:{\"name\": \"Vicky Wallace\", \"id\": \"KC 60 47 00 V\", \"age\": 74, \"gender\": \"female\", \"place\": \"Ely, Merseyside\", \"country\": \"United Kingdom\", \"email\": \"vicky.wallace@example.com\", \"phone number\": \"017684 53148\"}\n",
      "recieved messages:{\"name\": \"Nathaniel Moore\", \"id\": null, \"age\": 67, \"gender\": \"male\", \"place\": \"Taupo, Hawke'S Bay\", \"country\": \"New Zealand\", \"email\": \"nathaniel.moore@example.com\", \"phone number\": \"(510)-082-3928\"}\n",
      "recieved messages:{\"name\": \"Liberto Pires\", \"id\": \"042.073.443-25\", \"age\": 39, \"gender\": \"male\", \"place\": \"Campos dos Goytacazes, Santa Catarina\", \"country\": \"Brazil\", \"email\": \"liberto.pires@example.com\", \"phone number\": \"(18) 2475-7697\"}\n",
      "recieved messages:{\"name\": \"Ay\\u015fe A\\u015f\\u0131ko\\u011flu\", \"id\": null, \"age\": 79, \"gender\": \"female\", \"place\": \"I\\u011fd\\u0131r, Adana\", \"country\": \"Turkey\", \"email\": \"ayse.asikoglu@example.com\", \"phone number\": \"(161)-199-6719\"}\n",
      "recieved messages:{\"name\": \"Isabel King\", \"id\": null, \"age\": 39, \"gender\": \"female\", \"place\": \"Porirua, Marlborough\", \"country\": \"New Zealand\", \"email\": \"isabel.king@example.com\", \"phone number\": \"(218)-073-6834\"}\n"
     ]
    }
   ],
   "source": [
    "while True:\n",
    "    msg=consumer.poll()\n",
    "    \n",
    "    if msg is None:\n",
    "        print(\"No message...cont...!!!\")\n",
    "        continue\n",
    "    if msg.error():\n",
    "        print(\"Consumer error: {}\".format(msg.error()))\n",
    "        continue\n",
    "    print('recieved messages:{}'.format(msg.value().decode('utf-8')))"
   ]
  },
  {
   "cell_type": "code",
   "execution_count": null,
   "id": "7c0f7695",
   "metadata": {},
   "outputs": [],
   "source": []
  },
  {
   "cell_type": "code",
   "execution_count": null,
   "id": "f9406058",
   "metadata": {},
   "outputs": [],
   "source": []
  }
 ],
 "metadata": {
  "kernelspec": {
   "display_name": "Python 3 (ipykernel)",
   "language": "python",
   "name": "python3"
  },
  "language_info": {
   "codemirror_mode": {
    "name": "ipython",
    "version": 3
   },
   "file_extension": ".py",
   "mimetype": "text/x-python",
   "name": "python",
   "nbconvert_exporter": "python",
   "pygments_lexer": "ipython3",
   "version": "3.11.5"
  }
 },
 "nbformat": 4,
 "nbformat_minor": 5
}
